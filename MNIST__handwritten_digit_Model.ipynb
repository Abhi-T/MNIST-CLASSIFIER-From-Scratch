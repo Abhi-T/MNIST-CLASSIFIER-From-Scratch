{
 "cells": [
  {
   "cell_type": "markdown",
   "metadata": {
    "id": "iRckFGWOgGkc"
   },
   "source": [
    "# This Notebook is for MNIST data classification using RESNET50."
   ]
  },
  {
   "cell_type": "markdown",
   "metadata": {},
   "source": [
    "<img src=\"logo.png\">"
   ]
  },
  {
   "cell_type": "code",
   "execution_count": 1,
   "metadata": {},
   "outputs": [],
   "source": [
    "# Step 1. Data Loading\n",
    "import keras\n",
    "import tensorflow as tf"
   ]
  },
  {
   "cell_type": "code",
   "execution_count": 2,
   "metadata": {
    "colab": {
     "base_uri": "https://localhost:8080/"
    },
    "id": "jzHf9pI2ke0f",
    "outputId": "39cda037-c017-49c1-ff76-bd35348dbff9"
   },
   "outputs": [
    {
     "name": "stdout",
     "output_type": "stream",
     "text": [
      "--2020-11-06 10:29:58--  https://storage.googleapis.com/tensorflow/tf-keras-datasets/mnist.npz\n",
      "Resolving storage.googleapis.com (storage.googleapis.com)... 172.217.15.112, 172.217.2.112, 172.253.122.128, ...\n",
      "Connecting to storage.googleapis.com (storage.googleapis.com)|172.217.15.112|:443... connected.\n",
      "HTTP request sent, awaiting response... 200 OK\n",
      "Length: 11490434 (11M) [application/octet-stream]\n",
      "Saving to: ‘mnist.npz’\n",
      "\n",
      "\r",
      "mnist.npz             0%[                    ]       0  --.-KB/s               \r",
      "mnist.npz           100%[===================>]  10.96M  --.-KB/s    in 0.06s   \n",
      "\n",
      "2020-11-06 10:29:58 (189 MB/s) - ‘mnist.npz’ saved [11490434/11490434]\n",
      "\n"
     ]
    }
   ],
   "source": [
    "!wget https://storage.googleapis.com/tensorflow/tf-keras-datasets/mnist.npz"
   ]
  },
  {
   "cell_type": "code",
   "execution_count": 53,
   "metadata": {
    "id": "OtiqkJHLjEv7"
   },
   "outputs": [],
   "source": [
    "(x_train, y_train), (x_test, y_test)=keras.datasets.mnist.load_data(path='mnist.npz')"
   ]
  },
  {
   "cell_type": "code",
   "execution_count": 1,
   "metadata": {
    "colab": {
     "base_uri": "https://localhost:8080/"
    },
    "id": "pTvE9AWaIo07",
    "outputId": "5d3eb9bc-0dd1-4867-87bd-dba3e821e427"
   },
   "outputs": [],
   "source": [
    "# x_test.shape"
   ]
  },
  {
   "cell_type": "code",
   "execution_count": null,
   "metadata": {
    "id": "gbwkTUrMzZSS"
   },
   "outputs": [],
   "source": [
    "# img_rows=x_train[0].shape[0]\n",
    "# img_cols=x_train[0].shape[1]\n",
    "# x_train=x_train.reshape(x_train.shape[0],img_rows,img_cols,1)"
   ]
  },
  {
   "cell_type": "code",
   "execution_count": null,
   "metadata": {
    "id": "lk-wNAZ51D4w"
   },
   "outputs": [],
   "source": [
    "# def prepare_data_for_resnet50(data_to_transform):\n",
    "#     data = data_to_transform.copy()\n",
    "#     data = data.reshape(-1, 28, 28) / 255\n",
    "#     data = X_rgb = np.stack([data, data, data], axis=-1)\n",
    "#     return data"
   ]
  },
  {
   "cell_type": "code",
   "execution_count": null,
   "metadata": {
    "id": "QM_i6PK62OT6"
   },
   "outputs": [],
   "source": [
    "# x_train = x_train.reshape((60000, 28, 28, 1))\n",
    "# x_train = x_train.repeat(3, -1)  # repeat the last (-1) dimension three times\n",
    "# x_train = x_train.convert_to_tensor(x_train)\n",
    "# assert x_train.shape == (60000, 28, 28, 3)"
   ]
  },
  {
   "cell_type": "markdown",
   "metadata": {
    "id": "mCHnBScBIQ5j"
   },
   "source": [
    "Reshaping the input n dim array to match resnet model (expecting 3 channels)"
   ]
  },
  {
   "cell_type": "code",
   "execution_count": 55,
   "metadata": {
    "id": "H-rsfmLo3Bno"
   },
   "outputs": [],
   "source": [
    "#reshaping x_train\n",
    "X = x_train.reshape((60000, 28, 28, 1))\n",
    "X = X.repeat(3, -1)  # repeat the last (-1) dimension three times\n",
    "x_train = tf.convert_to_tensor(X)\n",
    "assert x_train.shape == (60000, 28, 28, 3)"
   ]
  },
  {
   "cell_type": "code",
   "execution_count": 56,
   "metadata": {
    "id": "d3oh_I_21Ft9"
   },
   "outputs": [],
   "source": [
    "#reshaping x_test\n",
    "X = x_test.reshape((10000, 28, 28, 1))\n",
    "X = X.repeat(3, -1)  # repeat the last (-1) dimension three times\n",
    "x_test = tf.convert_to_tensor(X)\n",
    "assert x_test.shape == (10000, 28, 28, 3)"
   ]
  },
  {
   "cell_type": "code",
   "execution_count": 57,
   "metadata": {
    "colab": {
     "base_uri": "https://localhost:8080/"
    },
    "id": "xuww_KoAlE_H",
    "outputId": "77966391-6688-4440-9f52-33f6ffb6f916"
   },
   "outputs": [
    {
     "name": "stdout",
     "output_type": "stream",
     "text": [
      "(60000, 28, 28, 3) <class 'tensorflow.python.framework.ops.EagerTensor'>\n"
     ]
    }
   ],
   "source": [
    "print(x_train.shape,type(x_train))"
   ]
  },
  {
   "cell_type": "code",
   "execution_count": 58,
   "metadata": {
    "colab": {
     "base_uri": "https://localhost:8080/"
    },
    "id": "EMHjjE7dI00i",
    "outputId": "655fca50-b083-4f01-ec33-fbe30696fd60"
   },
   "outputs": [
    {
     "name": "stdout",
     "output_type": "stream",
     "text": [
      "(10000, 28, 28, 3) <class 'tensorflow.python.framework.ops.EagerTensor'>\n"
     ]
    }
   ],
   "source": [
    "print(x_test.shape,type(x_test))"
   ]
  },
  {
   "cell_type": "code",
   "execution_count": 59,
   "metadata": {
    "id": "xcLZ-aLUG-Bk"
   },
   "outputs": [],
   "source": [
    "from keras.utils import to_categorical #converting to array which has columns equal to the number of categories in the data\n",
    "y_train = to_categorical(y_train)\n",
    "y_test = to_categorical(y_test)"
   ]
  },
  {
   "cell_type": "code",
   "execution_count": 60,
   "metadata": {
    "colab": {
     "base_uri": "https://localhost:8080/"
    },
    "id": "xPqcHpDp6M7g",
    "outputId": "e903b2df-fca8-46fd-9159-8e18073f78d4"
   },
   "outputs": [
    {
     "name": "stdout",
     "output_type": "stream",
     "text": [
      "[[0. 0. 0. ... 0. 0. 0.]\n",
      " [1. 0. 0. ... 0. 0. 0.]\n",
      " [0. 0. 0. ... 0. 0. 0.]\n",
      " ...\n",
      " [0. 0. 0. ... 0. 0. 0.]\n",
      " [0. 0. 0. ... 0. 0. 0.]\n",
      " [0. 0. 0. ... 0. 1. 0.]]\n",
      "[[0. 0. 0. ... 1. 0. 0.]\n",
      " [0. 0. 1. ... 0. 0. 0.]\n",
      " [0. 1. 0. ... 0. 0. 0.]\n",
      " ...\n",
      " [0. 0. 0. ... 0. 0. 0.]\n",
      " [0. 0. 0. ... 0. 0. 0.]\n",
      " [0. 0. 0. ... 0. 0. 0.]]\n"
     ]
    }
   ],
   "source": [
    "print(y_train) \n",
    "print(y_test)"
   ]
  },
  {
   "cell_type": "code",
   "execution_count": 61,
   "metadata": {
    "id": "IAvFjCJGlrNZ"
   },
   "outputs": [],
   "source": [
    "from matplotlib import pyplot as plt\n",
    "import numpy as np\n",
    "# print(y_train[3])\n",
    "def imageFormat(image1):\n",
    "  image1 = np.array(image1, dtype='float')\n",
    "  pixels = image1.reshape((28, 28,3))\n",
    "  return  pixels\n"
   ]
  },
  {
   "cell_type": "code",
   "execution_count": 62,
   "metadata": {
    "colab": {
     "base_uri": "https://localhost:8080/",
     "height": 371
    },
    "id": "0fsfwagBlSiW",
    "outputId": "4961237d-2d0e-4aa4-d74b-55b888bfca34"
   },
   "outputs": [
    {
     "name": "stderr",
     "output_type": "stream",
     "text": [
      "Clipping input data to the valid range for imshow with RGB data ([0..1] for floats or [0..255] for integers).\n",
      "Clipping input data to the valid range for imshow with RGB data ([0..1] for floats or [0..255] for integers).\n",
      "Clipping input data to the valid range for imshow with RGB data ([0..1] for floats or [0..255] for integers).\n",
      "Clipping input data to the valid range for imshow with RGB data ([0..1] for floats or [0..255] for integers).\n"
     ]
    },
    {
     "data": {
      "image/png": "[encoded data removed]",
      "text/plain": [
       "<Figure size 432x288 with 4 Axes>"
      ]
     },
     "metadata": {
      "needs_background": "light",
      "tags": []
     },
     "output_type": "display_data"
    }
   ],
   "source": [
    "f, axarr = plt.subplots(2,2) # axarr array of axis\n",
    "axarr[0,0].imshow(imageFormat(x_train[0]),label=\"1111\")\n",
    "axarr[0,0].title.set_text(np.argmax(y_train[0]))\n",
    "axarr[0,1].imshow(imageFormat(x_train[1]),label=\"1111\")\n",
    "axarr[0,1].title.set_text(np.argmax(y_train[1]))\n",
    "axarr[1,0].imshow(imageFormat(x_train[2]),label=\"1111\")\n",
    "axarr[1,0].title.set_text(np.argmax(y_train[2]))\n",
    "axarr[1,1].imshow(imageFormat(x_train[3]),label=\"1111\")\n",
    "axarr[1,1].title.set_text(np.argmax(y_train[3]))"
   ]
  },
  {
   "cell_type": "markdown",
   "metadata": {
    "id": "wJE2BuRgwK4I"
   },
   "source": [
    "# Importing Libraries"
   ]
  },
  {
   "cell_type": "code",
   "execution_count": 63,
   "metadata": {
    "colab": {
     "base_uri": "https://localhost:8080/"
    },
    "id": "kMVWMWF5lGVu",
    "outputId": "d1df781f-0257-447c-cad9-bd1c89959cde"
   },
   "outputs": [
    {
     "name": "stdout",
     "output_type": "stream",
     "text": [
      "Libs imported\n"
     ]
    }
   ],
   "source": [
    "from keras.layers import  Input, Dense, Flatten\n",
    "from keras.models import Model\n",
    "from keras.applications.resnet50 import ResNet50\n",
    "from keras.applications.resnet50 import preprocess_input\n",
    "from keras.preprocessing import image\n",
    "from keras.preprocessing.image import ImageDataGenerator, load_img\n",
    "from keras.models import Sequential\n",
    "import numpy as np\n",
    "from glob import glob\n",
    "print(\"Libs imported\")\n",
    "\n",
    "# if you are  changing the neumber of  neurons from N to n where N>n: this is called :'constructive' learning\n",
    "#The network can take the input image having height, width as multiples of 32 and 3 as channel width\n",
    "IMAGE_SIZE=[32,32]"
   ]
  },
  {
   "cell_type": "markdown",
   "metadata": {
    "id": "_HQpdQojwtcQ"
   },
   "source": [
    "# Using a pretrained ResNet50 CNN model which is already trained on 1000 object categories"
   ]
  },
  {
   "cell_type": "code",
   "execution_count": 64,
   "metadata": {
    "id": "fUbt9hKRwxb6"
   },
   "outputs": [],
   "source": [
    "resnet = ResNet50(include_top=False,  pooling='none', input_shape=IMAGE_SIZE +[3],  weights='imagenet')"
   ]
  },
  {
   "cell_type": "code",
   "execution_count": 65,
   "metadata": {
    "id": "Inq2ojiaw3XX"
   },
   "outputs": [],
   "source": [
    "cfg = resnet.get_config()\n",
    "cfg['layers'][0]['config']['batch_input_shape'] = (None, 28, 28, 1) #can accept input data of the defined batch size\n",
    "resnet_model = Model.from_config(cfg) "
   ]
  },
  {
   "cell_type": "markdown",
   "metadata": {
    "id": "0INn1957w-_o"
   },
   "source": [
    "#it is a 50 layer model and we will be adding an additional dense layer of size 10 \n",
    "#marking layers to non-trainable. We are trusting the existing weights to work so no need to retrain those.\n"
   ]
  },
  {
   "cell_type": "code",
   "execution_count": 66,
   "metadata": {
    "id": "5uE2fw8oxEJv"
   },
   "outputs": [],
   "source": [
    "for layers in resnet.layers:\n",
    "    layers.trainable= False"
   ]
  },
  {
   "cell_type": "code",
   "execution_count": 67,
   "metadata": {
    "id": "853VFnM5xHC3"
   },
   "outputs": [],
   "source": [
    "#Taking the output of the last convolution block in ResNet50\n",
    "X=Flatten()(resnet.output)\n",
    "# Adding a fully connected layer having 10 neurons\n",
    "no_classes=10\n",
    "prediction=Dense(no_classes, activation='softmax',name=\"Abhishek_layer\")(X) "
   ]
  },
  {
   "cell_type": "code",
   "execution_count": 68,
   "metadata": {
    "id": "sIXVy7w0xWHo"
   },
   "outputs": [],
   "source": [
    "# Model to be trained\n",
    "model=Model(inputs=resnet.input, outputs=prediction)"
   ]
  },
  {
   "cell_type": "code",
   "execution_count": 69,
   "metadata": {
    "colab": {
     "base_uri": "https://localhost:8080/"
    },
    "id": "nJU2L1sXxXz6",
    "outputId": "d8d2e29d-74b1-45fc-9849-5d93153707c9"
   },
   "outputs": [
    {
     "name": "stdout",
     "output_type": "stream",
     "text": [
      "Model: \"functional_5\"\n",
      "__________________________________________________________________________________________________\n",
      "Layer (type)                    Output Shape         Param #     Connected to                     \n",
      "==================================================================================================\n",
      "input_3 (InputLayer)            [(None, 32, 32, 3)]  0                                            \n",
      "__________________________________________________________________________________________________\n",
      "conv1_pad (ZeroPadding2D)       (None, 38, 38, 3)    0           input_3[0][0]                    \n",
      "__________________________________________________________________________________________________\n",
      "conv1_conv (Conv2D)             (None, 16, 16, 64)   9472        conv1_pad[0][0]                  \n",
      "__________________________________________________________________________________________________\n",
      "conv1_bn (BatchNormalization)   (None, 16, 16, 64)   256         conv1_conv[0][0]                 \n",
      "__________________________________________________________________________________________________\n",
      "conv1_relu (Activation)         (None, 16, 16, 64)   0           conv1_bn[0][0]                   \n",
      "__________________________________________________________________________________________________\n",
      "pool1_pad (ZeroPadding2D)       (None, 18, 18, 64)   0           conv1_relu[0][0]                 \n",
      "__________________________________________________________________________________________________\n",
      "pool1_pool (MaxPooling2D)       (None, 8, 8, 64)     0           pool1_pad[0][0]                  \n",
      "__________________________________________________________________________________________________\n",
      "conv2_block1_1_conv (Conv2D)    (None, 8, 8, 64)     4160        pool1_pool[0][0]                 \n",
      "__________________________________________________________________________________________________\n",
      "conv2_block1_1_bn (BatchNormali (None, 8, 8, 64)     256         conv2_block1_1_conv[0][0]        \n",
      "__________________________________________________________________________________________________\n",
      "conv2_block1_1_relu (Activation (None, 8, 8, 64)     0           conv2_block1_1_bn[0][0]          \n",
      "__________________________________________________________________________________________________\n",
      "conv2_block1_2_conv (Conv2D)    (None, 8, 8, 64)     36928       conv2_block1_1_relu[0][0]        \n",
      "__________________________________________________________________________________________________\n",
      "conv2_block1_2_bn (BatchNormali (None, 8, 8, 64)     256         conv2_block1_2_conv[0][0]        \n",
      "__________________________________________________________________________________________________\n",
      "conv2_block1_2_relu (Activation (None, 8, 8, 64)     0           conv2_block1_2_bn[0][0]          \n",
      "__________________________________________________________________________________________________\n",
      "conv2_block1_0_conv (Conv2D)    (None, 8, 8, 256)    16640       pool1_pool[0][0]                 \n",
      "__________________________________________________________________________________________________\n",
      "conv2_block1_3_conv (Conv2D)    (None, 8, 8, 256)    16640       conv2_block1_2_relu[0][0]        \n",
      "__________________________________________________________________________________________________\n",
      "conv2_block1_0_bn (BatchNormali (None, 8, 8, 256)    1024        conv2_block1_0_conv[0][0]        \n",
      "__________________________________________________________________________________________________\n",
      "conv2_block1_3_bn (BatchNormali (None, 8, 8, 256)    1024        conv2_block1_3_conv[0][0]        \n",
      "__________________________________________________________________________________________________\n",
      "conv2_block1_add (Add)          (None, 8, 8, 256)    0           conv2_block1_0_bn[0][0]          \n",
      "                                                                 conv2_block1_3_bn[0][0]          \n",
      "__________________________________________________________________________________________________\n",
      "conv2_block1_out (Activation)   (None, 8, 8, 256)    0           conv2_block1_add[0][0]           \n",
      "__________________________________________________________________________________________________\n",
      "conv2_block2_1_conv (Conv2D)    (None, 8, 8, 64)     16448       conv2_block1_out[0][0]           \n",
      "__________________________________________________________________________________________________\n",
      "conv2_block2_1_bn (BatchNormali (None, 8, 8, 64)     256         conv2_block2_1_conv[0][0]        \n",
      "__________________________________________________________________________________________________\n",
      "conv2_block2_1_relu (Activation (None, 8, 8, 64)     0           conv2_block2_1_bn[0][0]          \n",
      "__________________________________________________________________________________________________\n",
      "conv2_block2_2_conv (Conv2D)    (None, 8, 8, 64)     36928       conv2_block2_1_relu[0][0]        \n",
      "__________________________________________________________________________________________________\n",
      "conv2_block2_2_bn (BatchNormali (None, 8, 8, 64)     256         conv2_block2_2_conv[0][0]        \n",
      "__________________________________________________________________________________________________\n",
      "conv2_block2_2_relu (Activation (None, 8, 8, 64)     0           conv2_block2_2_bn[0][0]          \n",
      "__________________________________________________________________________________________________\n",
      "conv2_block2_3_conv (Conv2D)    (None, 8, 8, 256)    16640       conv2_block2_2_relu[0][0]        \n",
      "__________________________________________________________________________________________________\n",
      "conv2_block2_3_bn (BatchNormali (None, 8, 8, 256)    1024        conv2_block2_3_conv[0][0]        \n",
      "__________________________________________________________________________________________________\n",
      "conv2_block2_add (Add)          (None, 8, 8, 256)    0           conv2_block1_out[0][0]           \n",
      "                                                                 conv2_block2_3_bn[0][0]          \n",
      "__________________________________________________________________________________________________\n",
      "conv2_block2_out (Activation)   (None, 8, 8, 256)    0           conv2_block2_add[0][0]           \n",
      "__________________________________________________________________________________________________\n",
      "conv2_block3_1_conv (Conv2D)    (None, 8, 8, 64)     16448       conv2_block2_out[0][0]           \n",
      "__________________________________________________________________________________________________\n",
      "conv2_block3_1_bn (BatchNormali (None, 8, 8, 64)     256         conv2_block3_1_conv[0][0]        \n",
      "__________________________________________________________________________________________________\n",
      "conv2_block3_1_relu (Activation (None, 8, 8, 64)     0           conv2_block3_1_bn[0][0]          \n",
      "__________________________________________________________________________________________________\n",
      "conv2_block3_2_conv (Conv2D)    (None, 8, 8, 64)     36928       conv2_block3_1_relu[0][0]        \n",
      "__________________________________________________________________________________________________\n",
      "conv2_block3_2_bn (BatchNormali (None, 8, 8, 64)     256         conv2_block3_2_conv[0][0]        \n",
      "__________________________________________________________________________________________________\n",
      "conv2_block3_2_relu (Activation (None, 8, 8, 64)     0           conv2_block3_2_bn[0][0]          \n",
      "__________________________________________________________________________________________________\n",
      "conv2_block3_3_conv (Conv2D)    (None, 8, 8, 256)    16640       conv2_block3_2_relu[0][0]        \n",
      "__________________________________________________________________________________________________\n",
      "conv2_block3_3_bn (BatchNormali (None, 8, 8, 256)    1024        conv2_block3_3_conv[0][0]        \n",
      "__________________________________________________________________________________________________\n",
      "conv2_block3_add (Add)          (None, 8, 8, 256)    0           conv2_block2_out[0][0]           \n",
      "                                                                 conv2_block3_3_bn[0][0]          \n",
      "__________________________________________________________________________________________________\n",
      "conv2_block3_out (Activation)   (None, 8, 8, 256)    0           conv2_block3_add[0][0]           \n",
      "__________________________________________________________________________________________________\n",
      "conv3_block1_1_conv (Conv2D)    (None, 4, 4, 128)    32896       conv2_block3_out[0][0]           \n",
      "__________________________________________________________________________________________________\n",
      "conv3_block1_1_bn (BatchNormali (None, 4, 4, 128)    512         conv3_block1_1_conv[0][0]        \n",
      "__________________________________________________________________________________________________\n",
      "conv3_block1_1_relu (Activation (None, 4, 4, 128)    0           conv3_block1_1_bn[0][0]          \n",
      "__________________________________________________________________________________________________\n",
      "conv3_block1_2_conv (Conv2D)    (None, 4, 4, 128)    147584      conv3_block1_1_relu[0][0]        \n",
      "__________________________________________________________________________________________________\n",
      "conv3_block1_2_bn (BatchNormali (None, 4, 4, 128)    512         conv3_block1_2_conv[0][0]        \n",
      "__________________________________________________________________________________________________\n",
      "conv3_block1_2_relu (Activation (None, 4, 4, 128)    0           conv3_block1_2_bn[0][0]          \n",
      "__________________________________________________________________________________________________\n",
      "conv3_block1_0_conv (Conv2D)    (None, 4, 4, 512)    131584      conv2_block3_out[0][0]           \n",
      "__________________________________________________________________________________________________\n",
      "conv3_block1_3_conv (Conv2D)    (None, 4, 4, 512)    66048       conv3_block1_2_relu[0][0]        \n",
      "__________________________________________________________________________________________________\n",
      "conv3_block1_0_bn (BatchNormali (None, 4, 4, 512)    2048        conv3_block1_0_conv[0][0]        \n",
      "__________________________________________________________________________________________________\n",
      "conv3_block1_3_bn (BatchNormali (None, 4, 4, 512)    2048        conv3_block1_3_conv[0][0]        \n",
      "__________________________________________________________________________________________________\n",
      "conv3_block1_add (Add)          (None, 4, 4, 512)    0           conv3_block1_0_bn[0][0]          \n",
      "                                                                 conv3_block1_3_bn[0][0]          \n",
      "__________________________________________________________________________________________________\n",
      "conv3_block1_out (Activation)   (None, 4, 4, 512)    0           conv3_block1_add[0][0]           \n",
      "__________________________________________________________________________________________________\n",
      "conv3_block2_1_conv (Conv2D)    (None, 4, 4, 128)    65664       conv3_block1_out[0][0]           \n",
      "__________________________________________________________________________________________________\n",
      "conv3_block2_1_bn (BatchNormali (None, 4, 4, 128)    512         conv3_block2_1_conv[0][0]        \n",
      "__________________________________________________________________________________________________\n",
      "conv3_block2_1_relu (Activation (None, 4, 4, 128)    0           conv3_block2_1_bn[0][0]          \n",
      "__________________________________________________________________________________________________\n",
      "conv3_block2_2_conv (Conv2D)    (None, 4, 4, 128)    147584      conv3_block2_1_relu[0][0]        \n",
      "__________________________________________________________________________________________________\n",
      "conv3_block2_2_bn (BatchNormali (None, 4, 4, 128)    512         conv3_block2_2_conv[0][0]        \n",
      "__________________________________________________________________________________________________\n",
      "conv3_block2_2_relu (Activation (None, 4, 4, 128)    0           conv3_block2_2_bn[0][0]          \n",
      "__________________________________________________________________________________________________\n",
      "conv3_block2_3_conv (Conv2D)    (None, 4, 4, 512)    66048       conv3_block2_2_relu[0][0]        \n",
      "__________________________________________________________________________________________________\n",
      "conv3_block2_3_bn (BatchNormali (None, 4, 4, 512)    2048        conv3_block2_3_conv[0][0]        \n",
      "__________________________________________________________________________________________________\n",
      "conv3_block2_add (Add)          (None, 4, 4, 512)    0           conv3_block1_out[0][0]           \n",
      "                                                                 conv3_block2_3_bn[0][0]          \n",
      "__________________________________________________________________________________________________\n",
      "conv3_block2_out (Activation)   (None, 4, 4, 512)    0           conv3_block2_add[0][0]           \n",
      "__________________________________________________________________________________________________\n",
      "conv3_block3_1_conv (Conv2D)    (None, 4, 4, 128)    65664       conv3_block2_out[0][0]           \n",
      "__________________________________________________________________________________________________\n",
      "conv3_block3_1_bn (BatchNormali (None, 4, 4, 128)    512         conv3_block3_1_conv[0][0]        \n",
      "__________________________________________________________________________________________________\n",
      "conv3_block3_1_relu (Activation (None, 4, 4, 128)    0           conv3_block3_1_bn[0][0]          \n",
      "__________________________________________________________________________________________________\n",
      "conv3_block3_2_conv (Conv2D)    (None, 4, 4, 128)    147584      conv3_block3_1_relu[0][0]        \n",
      "__________________________________________________________________________________________________\n",
      "conv3_block3_2_bn (BatchNormali (None, 4, 4, 128)    512         conv3_block3_2_conv[0][0]        \n",
      "__________________________________________________________________________________________________\n",
      "conv3_block3_2_relu (Activation (None, 4, 4, 128)    0           conv3_block3_2_bn[0][0]          \n",
      "__________________________________________________________________________________________________\n",
      "conv3_block3_3_conv (Conv2D)    (None, 4, 4, 512)    66048       conv3_block3_2_relu[0][0]        \n",
      "__________________________________________________________________________________________________\n",
      "conv3_block3_3_bn (BatchNormali (None, 4, 4, 512)    2048        conv3_block3_3_conv[0][0]        \n",
      "__________________________________________________________________________________________________\n",
      "conv3_block3_add (Add)          (None, 4, 4, 512)    0           conv3_block2_out[0][0]           \n",
      "                                                                 conv3_block3_3_bn[0][0]          \n",
      "__________________________________________________________________________________________________\n",
      "conv3_block3_out (Activation)   (None, 4, 4, 512)    0           conv3_block3_add[0][0]           \n",
      "__________________________________________________________________________________________________\n",
      "conv3_block4_1_conv (Conv2D)    (None, 4, 4, 128)    65664       conv3_block3_out[0][0]           \n",
      "__________________________________________________________________________________________________\n",
      "conv3_block4_1_bn (BatchNormali (None, 4, 4, 128)    512         conv3_block4_1_conv[0][0]        \n",
      "__________________________________________________________________________________________________\n",
      "conv3_block4_1_relu (Activation (None, 4, 4, 128)    0           conv3_block4_1_bn[0][0]          \n",
      "__________________________________________________________________________________________________\n",
      "conv3_block4_2_conv (Conv2D)    (None, 4, 4, 128)    147584      conv3_block4_1_relu[0][0]        \n",
      "__________________________________________________________________________________________________\n",
      "conv3_block4_2_bn (BatchNormali (None, 4, 4, 128)    512         conv3_block4_2_conv[0][0]        \n",
      "__________________________________________________________________________________________________\n",
      "conv3_block4_2_relu (Activation (None, 4, 4, 128)    0           conv3_block4_2_bn[0][0]          \n",
      "__________________________________________________________________________________________________\n",
      "conv3_block4_3_conv (Conv2D)    (None, 4, 4, 512)    66048       conv3_block4_2_relu[0][0]        \n",
      "__________________________________________________________________________________________________\n",
      "conv3_block4_3_bn (BatchNormali (None, 4, 4, 512)    2048        conv3_block4_3_conv[0][0]        \n",
      "__________________________________________________________________________________________________\n",
      "conv3_block4_add (Add)          (None, 4, 4, 512)    0           conv3_block3_out[0][0]           \n",
      "                                                                 conv3_block4_3_bn[0][0]          \n",
      "__________________________________________________________________________________________________\n",
      "conv3_block4_out (Activation)   (None, 4, 4, 512)    0           conv3_block4_add[0][0]           \n",
      "__________________________________________________________________________________________________\n",
      "conv4_block1_1_conv (Conv2D)    (None, 2, 2, 256)    131328      conv3_block4_out[0][0]           \n",
      "__________________________________________________________________________________________________\n",
      "conv4_block1_1_bn (BatchNormali (None, 2, 2, 256)    1024        conv4_block1_1_conv[0][0]        \n",
      "__________________________________________________________________________________________________\n",
      "conv4_block1_1_relu (Activation (None, 2, 2, 256)    0           conv4_block1_1_bn[0][0]          \n",
      "__________________________________________________________________________________________________\n",
      "conv4_block1_2_conv (Conv2D)    (None, 2, 2, 256)    590080      conv4_block1_1_relu[0][0]        \n",
      "__________________________________________________________________________________________________\n",
      "conv4_block1_2_bn (BatchNormali (None, 2, 2, 256)    1024        conv4_block1_2_conv[0][0]        \n",
      "__________________________________________________________________________________________________\n",
      "conv4_block1_2_relu (Activation (None, 2, 2, 256)    0           conv4_block1_2_bn[0][0]          \n",
      "__________________________________________________________________________________________________\n",
      "conv4_block1_0_conv (Conv2D)    (None, 2, 2, 1024)   525312      conv3_block4_out[0][0]           \n",
      "__________________________________________________________________________________________________\n",
      "conv4_block1_3_conv (Conv2D)    (None, 2, 2, 1024)   263168      conv4_block1_2_relu[0][0]        \n",
      "__________________________________________________________________________________________________\n",
      "conv4_block1_0_bn (BatchNormali (None, 2, 2, 1024)   4096        conv4_block1_0_conv[0][0]        \n",
      "__________________________________________________________________________________________________\n",
      "conv4_block1_3_bn (BatchNormali (None, 2, 2, 1024)   4096        conv4_block1_3_conv[0][0]        \n",
      "__________________________________________________________________________________________________\n",
      "conv4_block1_add (Add)          (None, 2, 2, 1024)   0           conv4_block1_0_bn[0][0]          \n",
      "                                                                 conv4_block1_3_bn[0][0]          \n",
      "__________________________________________________________________________________________________\n",
      "conv4_block1_out (Activation)   (None, 2, 2, 1024)   0           conv4_block1_add[0][0]           \n",
      "__________________________________________________________________________________________________\n",
      "conv4_block2_1_conv (Conv2D)    (None, 2, 2, 256)    262400      conv4_block1_out[0][0]           \n",
      "__________________________________________________________________________________________________\n",
      "conv4_block2_1_bn (BatchNormali (None, 2, 2, 256)    1024        conv4_block2_1_conv[0][0]        \n",
      "__________________________________________________________________________________________________\n",
      "conv4_block2_1_relu (Activation (None, 2, 2, 256)    0           conv4_block2_1_bn[0][0]          \n",
      "__________________________________________________________________________________________________\n",
      "conv4_block2_2_conv (Conv2D)    (None, 2, 2, 256)    590080      conv4_block2_1_relu[0][0]        \n",
      "__________________________________________________________________________________________________\n",
      "conv4_block2_2_bn (BatchNormali (None, 2, 2, 256)    1024        conv4_block2_2_conv[0][0]        \n",
      "__________________________________________________________________________________________________\n",
      "conv4_block2_2_relu (Activation (None, 2, 2, 256)    0           conv4_block2_2_bn[0][0]          \n",
      "__________________________________________________________________________________________________\n",
      "conv4_block2_3_conv (Conv2D)    (None, 2, 2, 1024)   263168      conv4_block2_2_relu[0][0]        \n",
      "__________________________________________________________________________________________________\n",
      "conv4_block2_3_bn (BatchNormali (None, 2, 2, 1024)   4096        conv4_block2_3_conv[0][0]        \n",
      "__________________________________________________________________________________________________\n",
      "conv4_block2_add (Add)          (None, 2, 2, 1024)   0           conv4_block1_out[0][0]           \n",
      "                                                                 conv4_block2_3_bn[0][0]          \n",
      "__________________________________________________________________________________________________\n",
      "conv4_block2_out (Activation)   (None, 2, 2, 1024)   0           conv4_block2_add[0][0]           \n",
      "__________________________________________________________________________________________________\n",
      "conv4_block3_1_conv (Conv2D)    (None, 2, 2, 256)    262400      conv4_block2_out[0][0]           \n",
      "__________________________________________________________________________________________________\n",
      "conv4_block3_1_bn (BatchNormali (None, 2, 2, 256)    1024        conv4_block3_1_conv[0][0]        \n",
      "__________________________________________________________________________________________________\n",
      "conv4_block3_1_relu (Activation (None, 2, 2, 256)    0           conv4_block3_1_bn[0][0]          \n",
      "__________________________________________________________________________________________________\n",
      "conv4_block3_2_conv (Conv2D)    (None, 2, 2, 256)    590080      conv4_block3_1_relu[0][0]        \n",
      "__________________________________________________________________________________________________\n",
      "conv4_block3_2_bn (BatchNormali (None, 2, 2, 256)    1024        conv4_block3_2_conv[0][0]        \n",
      "__________________________________________________________________________________________________\n",
      "conv4_block3_2_relu (Activation (None, 2, 2, 256)    0           conv4_block3_2_bn[0][0]          \n",
      "__________________________________________________________________________________________________\n",
      "conv4_block3_3_conv (Conv2D)    (None, 2, 2, 1024)   263168      conv4_block3_2_relu[0][0]        \n",
      "__________________________________________________________________________________________________\n",
      "conv4_block3_3_bn (BatchNormali (None, 2, 2, 1024)   4096        conv4_block3_3_conv[0][0]        \n",
      "__________________________________________________________________________________________________\n",
      "conv4_block3_add (Add)          (None, 2, 2, 1024)   0           conv4_block2_out[0][0]           \n",
      "                                                                 conv4_block3_3_bn[0][0]          \n",
      "__________________________________________________________________________________________________\n",
      "conv4_block3_out (Activation)   (None, 2, 2, 1024)   0           conv4_block3_add[0][0]           \n",
      "__________________________________________________________________________________________________\n",
      "conv4_block4_1_conv (Conv2D)    (None, 2, 2, 256)    262400      conv4_block3_out[0][0]           \n",
      "__________________________________________________________________________________________________\n",
      "conv4_block4_1_bn (BatchNormali (None, 2, 2, 256)    1024        conv4_block4_1_conv[0][0]        \n",
      "__________________________________________________________________________________________________\n",
      "conv4_block4_1_relu (Activation (None, 2, 2, 256)    0           conv4_block4_1_bn[0][0]          \n",
      "__________________________________________________________________________________________________\n",
      "conv4_block4_2_conv (Conv2D)    (None, 2, 2, 256)    590080      conv4_block4_1_relu[0][0]        \n",
      "__________________________________________________________________________________________________\n",
      "conv4_block4_2_bn (BatchNormali (None, 2, 2, 256)    1024        conv4_block4_2_conv[0][0]        \n",
      "__________________________________________________________________________________________________\n",
      "conv4_block4_2_relu (Activation (None, 2, 2, 256)    0           conv4_block4_2_bn[0][0]          \n",
      "__________________________________________________________________________________________________\n",
      "conv4_block4_3_conv (Conv2D)    (None, 2, 2, 1024)   263168      conv4_block4_2_relu[0][0]        \n",
      "__________________________________________________________________________________________________\n",
      "conv4_block4_3_bn (BatchNormali (None, 2, 2, 1024)   4096        conv4_block4_3_conv[0][0]        \n",
      "__________________________________________________________________________________________________\n",
      "conv4_block4_add (Add)          (None, 2, 2, 1024)   0           conv4_block3_out[0][0]           \n",
      "                                                                 conv4_block4_3_bn[0][0]          \n",
      "__________________________________________________________________________________________________\n",
      "conv4_block4_out (Activation)   (None, 2, 2, 1024)   0           conv4_block4_add[0][0]           \n",
      "__________________________________________________________________________________________________\n",
      "conv4_block5_1_conv (Conv2D)    (None, 2, 2, 256)    262400      conv4_block4_out[0][0]           \n",
      "__________________________________________________________________________________________________\n",
      "conv4_block5_1_bn (BatchNormali (None, 2, 2, 256)    1024        conv4_block5_1_conv[0][0]        \n",
      "__________________________________________________________________________________________________\n",
      "conv4_block5_1_relu (Activation (None, 2, 2, 256)    0           conv4_block5_1_bn[0][0]          \n",
      "__________________________________________________________________________________________________\n",
      "conv4_block5_2_conv (Conv2D)    (None, 2, 2, 256)    590080      conv4_block5_1_relu[0][0]        \n",
      "__________________________________________________________________________________________________\n",
      "conv4_block5_2_bn (BatchNormali (None, 2, 2, 256)    1024        conv4_block5_2_conv[0][0]        \n",
      "__________________________________________________________________________________________________\n",
      "conv4_block5_2_relu (Activation (None, 2, 2, 256)    0           conv4_block5_2_bn[0][0]          \n",
      "__________________________________________________________________________________________________\n",
      "conv4_block5_3_conv (Conv2D)    (None, 2, 2, 1024)   263168      conv4_block5_2_relu[0][0]        \n",
      "__________________________________________________________________________________________________\n",
      "conv4_block5_3_bn (BatchNormali (None, 2, 2, 1024)   4096        conv4_block5_3_conv[0][0]        \n",
      "__________________________________________________________________________________________________\n",
      "conv4_block5_add (Add)          (None, 2, 2, 1024)   0           conv4_block4_out[0][0]           \n",
      "                                                                 conv4_block5_3_bn[0][0]          \n",
      "__________________________________________________________________________________________________\n",
      "conv4_block5_out (Activation)   (None, 2, 2, 1024)   0           conv4_block5_add[0][0]           \n",
      "__________________________________________________________________________________________________\n",
      "conv4_block6_1_conv (Conv2D)    (None, 2, 2, 256)    262400      conv4_block5_out[0][0]           \n",
      "__________________________________________________________________________________________________\n",
      "conv4_block6_1_bn (BatchNormali (None, 2, 2, 256)    1024        conv4_block6_1_conv[0][0]        \n",
      "__________________________________________________________________________________________________\n",
      "conv4_block6_1_relu (Activation (None, 2, 2, 256)    0           conv4_block6_1_bn[0][0]          \n",
      "__________________________________________________________________________________________________\n",
      "conv4_block6_2_conv (Conv2D)    (None, 2, 2, 256)    590080      conv4_block6_1_relu[0][0]        \n",
      "__________________________________________________________________________________________________\n",
      "conv4_block6_2_bn (BatchNormali (None, 2, 2, 256)    1024        conv4_block6_2_conv[0][0]        \n",
      "__________________________________________________________________________________________________\n",
      "conv4_block6_2_relu (Activation (None, 2, 2, 256)    0           conv4_block6_2_bn[0][0]          \n",
      "__________________________________________________________________________________________________\n",
      "conv4_block6_3_conv (Conv2D)    (None, 2, 2, 1024)   263168      conv4_block6_2_relu[0][0]        \n",
      "__________________________________________________________________________________________________\n",
      "conv4_block6_3_bn (BatchNormali (None, 2, 2, 1024)   4096        conv4_block6_3_conv[0][0]        \n",
      "__________________________________________________________________________________________________\n",
      "conv4_block6_add (Add)          (None, 2, 2, 1024)   0           conv4_block5_out[0][0]           \n",
      "                                                                 conv4_block6_3_bn[0][0]          \n",
      "__________________________________________________________________________________________________\n",
      "conv4_block6_out (Activation)   (None, 2, 2, 1024)   0           conv4_block6_add[0][0]           \n",
      "__________________________________________________________________________________________________\n",
      "conv5_block1_1_conv (Conv2D)    (None, 1, 1, 512)    524800      conv4_block6_out[0][0]           \n",
      "__________________________________________________________________________________________________\n",
      "conv5_block1_1_bn (BatchNormali (None, 1, 1, 512)    2048        conv5_block1_1_conv[0][0]        \n",
      "__________________________________________________________________________________________________\n",
      "conv5_block1_1_relu (Activation (None, 1, 1, 512)    0           conv5_block1_1_bn[0][0]          \n",
      "__________________________________________________________________________________________________\n",
      "conv5_block1_2_conv (Conv2D)    (None, 1, 1, 512)    2359808     conv5_block1_1_relu[0][0]        \n",
      "__________________________________________________________________________________________________\n",
      "conv5_block1_2_bn (BatchNormali (None, 1, 1, 512)    2048        conv5_block1_2_conv[0][0]        \n",
      "__________________________________________________________________________________________________\n",
      "conv5_block1_2_relu (Activation (None, 1, 1, 512)    0           conv5_block1_2_bn[0][0]          \n",
      "__________________________________________________________________________________________________\n",
      "conv5_block1_0_conv (Conv2D)    (None, 1, 1, 2048)   2099200     conv4_block6_out[0][0]           \n",
      "__________________________________________________________________________________________________\n",
      "conv5_block1_3_conv (Conv2D)    (None, 1, 1, 2048)   1050624     conv5_block1_2_relu[0][0]        \n",
      "__________________________________________________________________________________________________\n",
      "conv5_block1_0_bn (BatchNormali (None, 1, 1, 2048)   8192        conv5_block1_0_conv[0][0]        \n",
      "__________________________________________________________________________________________________\n",
      "conv5_block1_3_bn (BatchNormali (None, 1, 1, 2048)   8192        conv5_block1_3_conv[0][0]        \n",
      "__________________________________________________________________________________________________\n",
      "conv5_block1_add (Add)          (None, 1, 1, 2048)   0           conv5_block1_0_bn[0][0]          \n",
      "                                                                 conv5_block1_3_bn[0][0]          \n",
      "__________________________________________________________________________________________________\n",
      "conv5_block1_out (Activation)   (None, 1, 1, 2048)   0           conv5_block1_add[0][0]           \n",
      "__________________________________________________________________________________________________\n",
      "conv5_block2_1_conv (Conv2D)    (None, 1, 1, 512)    1049088     conv5_block1_out[0][0]           \n",
      "__________________________________________________________________________________________________\n",
      "conv5_block2_1_bn (BatchNormali (None, 1, 1, 512)    2048        conv5_block2_1_conv[0][0]        \n",
      "__________________________________________________________________________________________________\n",
      "conv5_block2_1_relu (Activation (None, 1, 1, 512)    0           conv5_block2_1_bn[0][0]          \n",
      "__________________________________________________________________________________________________\n",
      "conv5_block2_2_conv (Conv2D)    (None, 1, 1, 512)    2359808     conv5_block2_1_relu[0][0]        \n",
      "__________________________________________________________________________________________________\n",
      "conv5_block2_2_bn (BatchNormali (None, 1, 1, 512)    2048        conv5_block2_2_conv[0][0]        \n",
      "__________________________________________________________________________________________________\n",
      "conv5_block2_2_relu (Activation (None, 1, 1, 512)    0           conv5_block2_2_bn[0][0]          \n",
      "__________________________________________________________________________________________________\n",
      "conv5_block2_3_conv (Conv2D)    (None, 1, 1, 2048)   1050624     conv5_block2_2_relu[0][0]        \n",
      "__________________________________________________________________________________________________\n",
      "conv5_block2_3_bn (BatchNormali (None, 1, 1, 2048)   8192        conv5_block2_3_conv[0][0]        \n",
      "__________________________________________________________________________________________________\n",
      "conv5_block2_add (Add)          (None, 1, 1, 2048)   0           conv5_block1_out[0][0]           \n",
      "                                                                 conv5_block2_3_bn[0][0]          \n",
      "__________________________________________________________________________________________________\n",
      "conv5_block2_out (Activation)   (None, 1, 1, 2048)   0           conv5_block2_add[0][0]           \n",
      "__________________________________________________________________________________________________\n",
      "conv5_block3_1_conv (Conv2D)    (None, 1, 1, 512)    1049088     conv5_block2_out[0][0]           \n",
      "__________________________________________________________________________________________________\n",
      "conv5_block3_1_bn (BatchNormali (None, 1, 1, 512)    2048        conv5_block3_1_conv[0][0]        \n",
      "__________________________________________________________________________________________________\n",
      "conv5_block3_1_relu (Activation (None, 1, 1, 512)    0           conv5_block3_1_bn[0][0]          \n",
      "__________________________________________________________________________________________________\n",
      "conv5_block3_2_conv (Conv2D)    (None, 1, 1, 512)    2359808     conv5_block3_1_relu[0][0]        \n",
      "__________________________________________________________________________________________________\n",
      "conv5_block3_2_bn (BatchNormali (None, 1, 1, 512)    2048        conv5_block3_2_conv[0][0]        \n",
      "__________________________________________________________________________________________________\n",
      "conv5_block3_2_relu (Activation (None, 1, 1, 512)    0           conv5_block3_2_bn[0][0]          \n",
      "__________________________________________________________________________________________________\n",
      "conv5_block3_3_conv (Conv2D)    (None, 1, 1, 2048)   1050624     conv5_block3_2_relu[0][0]        \n",
      "__________________________________________________________________________________________________\n",
      "conv5_block3_3_bn (BatchNormali (None, 1, 1, 2048)   8192        conv5_block3_3_conv[0][0]        \n",
      "__________________________________________________________________________________________________\n",
      "conv5_block3_add (Add)          (None, 1, 1, 2048)   0           conv5_block2_out[0][0]           \n",
      "                                                                 conv5_block3_3_bn[0][0]          \n",
      "__________________________________________________________________________________________________\n",
      "conv5_block3_out (Activation)   (None, 1, 1, 2048)   0           conv5_block3_add[0][0]           \n",
      "__________________________________________________________________________________________________\n",
      "flatten_2 (Flatten)             (None, 2048)         0           conv5_block3_out[0][0]           \n",
      "__________________________________________________________________________________________________\n",
      "Abhishek_layer (Dense)          (None, 10)           20490       flatten_2[0][0]                  \n",
      "==================================================================================================\n",
      "Total params: 23,608,202\n",
      "Trainable params: 20,490\n",
      "Non-trainable params: 23,587,712\n",
      "__________________________________________________________________________________________________\n",
      "None\n"
     ]
    }
   ],
   "source": [
    "print(model.summary())"
   ]
  },
  {
   "cell_type": "code",
   "execution_count": 70,
   "metadata": {
    "id": "Qk_pd7p8x632"
   },
   "outputs": [],
   "source": [
    "#set what cost and optimization method to use for our model\n",
    "model.compile(loss='categorical_crossentropy', optimizer='adam', metrics=['accuracy'])"
   ]
  },
  {
   "cell_type": "code",
   "execution_count": 100,
   "metadata": {
    "colab": {
     "base_uri": "https://localhost:8080/"
    },
    "id": "-NkLJf9ex-PG",
    "outputId": "5ab0f9a2-e403-4c21-8cb2-0f1c156e0229"
   },
   "outputs": [
    {
     "name": "stdout",
     "output_type": "stream",
     "text": [
      "Epoch 1/20\n",
      "1875/1875 [==============================] - 20s 11ms/step - loss: 0.2082 - accuracy: 0.9334 - val_loss: 0.2144 - val_accuracy: 0.9366\n",
      "Epoch 2/20\n",
      "1875/1875 [==============================] - 20s 11ms/step - loss: 0.1798 - accuracy: 0.9424 - val_loss: 0.2038 - val_accuracy: 0.9340\n",
      "Epoch 3/20\n",
      "1875/1875 [==============================] - 20s 11ms/step - loss: 0.1572 - accuracy: 0.9496 - val_loss: 0.1926 - val_accuracy: 0.9424\n",
      "Epoch 4/20\n",
      "1875/1875 [==============================] - 20s 11ms/step - loss: 0.1488 - accuracy: 0.9521 - val_loss: 0.1946 - val_accuracy: 0.9443\n",
      "Epoch 5/20\n",
      "1875/1875 [==============================] - 20s 11ms/step - loss: 0.1386 - accuracy: 0.9557 - val_loss: 0.1748 - val_accuracy: 0.9461\n",
      "Epoch 6/20\n",
      "1875/1875 [==============================] - 20s 11ms/step - loss: 0.1338 - accuracy: 0.9560 - val_loss: 0.1781 - val_accuracy: 0.9489\n",
      "Epoch 7/20\n",
      "1875/1875 [==============================] - 20s 11ms/step - loss: 0.1250 - accuracy: 0.9592 - val_loss: 0.1600 - val_accuracy: 0.9529\n",
      "Epoch 8/20\n",
      "1875/1875 [==============================] - 20s 11ms/step - loss: 0.1216 - accuracy: 0.9603 - val_loss: 0.1844 - val_accuracy: 0.9486\n",
      "Epoch 9/20\n",
      "1875/1875 [==============================] - 20s 11ms/step - loss: 0.1186 - accuracy: 0.9615 - val_loss: 0.1623 - val_accuracy: 0.9557\n",
      "Epoch 10/20\n",
      "1875/1875 [==============================] - 20s 11ms/step - loss: 0.1134 - accuracy: 0.9631 - val_loss: 0.1875 - val_accuracy: 0.9473\n",
      "Epoch 11/20\n",
      "1875/1875 [==============================] - 20s 11ms/step - loss: 0.1094 - accuracy: 0.9647 - val_loss: 0.1984 - val_accuracy: 0.9474\n",
      "Epoch 12/20\n",
      "1875/1875 [==============================] - 20s 11ms/step - loss: 0.1059 - accuracy: 0.9655 - val_loss: 0.2257 - val_accuracy: 0.9392\n",
      "Epoch 13/20\n",
      "1875/1875 [==============================] - 20s 11ms/step - loss: 0.1019 - accuracy: 0.9668 - val_loss: 0.1807 - val_accuracy: 0.9492\n",
      "Epoch 14/20\n",
      "1875/1875 [==============================] - 20s 11ms/step - loss: 0.1003 - accuracy: 0.9674 - val_loss: 0.2181 - val_accuracy: 0.9466\n",
      "Epoch 15/20\n",
      "1875/1875 [==============================] - 20s 11ms/step - loss: 0.0986 - accuracy: 0.9676 - val_loss: 0.1997 - val_accuracy: 0.9472\n",
      "Epoch 16/20\n",
      "1875/1875 [==============================] - 20s 11ms/step - loss: 0.0939 - accuracy: 0.9685 - val_loss: 0.1817 - val_accuracy: 0.9523\n",
      "Epoch 17/20\n",
      "1875/1875 [==============================] - 20s 10ms/step - loss: 0.0926 - accuracy: 0.9700 - val_loss: 0.1876 - val_accuracy: 0.9514\n",
      "Epoch 18/20\n",
      "1875/1875 [==============================] - 20s 11ms/step - loss: 0.0903 - accuracy: 0.9703 - val_loss: 0.1642 - val_accuracy: 0.9585\n",
      "Epoch 19/20\n",
      "1875/1875 [==============================] - 20s 11ms/step - loss: 0.0886 - accuracy: 0.9711 - val_loss: 0.1851 - val_accuracy: 0.9542\n",
      "Epoch 20/20\n",
      "1875/1875 [==============================] - 20s 11ms/step - loss: 0.0894 - accuracy: 0.9710 - val_loss: 0.2019 - val_accuracy: 0.9529\n"
     ]
    }
   ],
   "source": [
    "hist = model.fit(x_train, y_train, validation_data=(x_test, y_test), epochs=20, verbose=1)"
   ]
  },
  {
   "cell_type": "markdown",
   "metadata": {},
   "source": [
    "# Displaying results after training our model for 20 iterations"
   ]
  },
  {
   "cell_type": "code",
   "execution_count": 101,
   "metadata": {
    "colab": {
     "base_uri": "https://localhost:8080/"
    },
    "id": "EQf7OTHi8MIW",
    "outputId": "4cdbc55b-62c0-4e8e-a697-6957c9e25201"
   },
   "outputs": [
    {
     "name": "stdout",
     "output_type": "stream",
     "text": [
      "loss            0.089429\n",
      "accuracy        0.971017\n",
      "val_loss        0.201885\n",
      "val_accuracy    0.952900\n",
      "Name: 19, dtype: float64\n"
     ]
    }
   ],
   "source": [
    "import pandas as pd\n",
    "print(pd.DataFrame(hist.history).iloc[-1])"
   ]
  },
  {
   "cell_type": "code",
   "execution_count": 102,
   "metadata": {
    "colab": {
     "base_uri": "https://localhost:8080/",
     "height": 551
    },
    "id": "c-aAbp7c8RUf",
    "outputId": "72a92c38-0ade-4b9e-abba-fe1aa751418e"
   },
   "outputs": [
    {
     "name": "stdout",
     "output_type": "stream",
     "text": [
      "{'loss': [0.20815303921699524, 0.17978999018669128, 0.15718211233615875, 0.14884410798549652, 0.13860705494880676, 0.13380210101604462, 0.1249675452709198, 0.12158224731683731, 0.1185750737786293, 0.11335867643356323, 0.10944399237632751, 0.10592535883188248, 0.1018630638718605, 0.10025867819786072, 0.09862472862005234, 0.09391879290342331, 0.09259484708309174, 0.09025169909000397, 0.0886201560497284, 0.08942859619855881], 'accuracy': [0.9333500266075134, 0.9424499869346619, 0.9495999813079834, 0.9520833492279053, 0.9556666612625122, 0.9559833407402039, 0.9592499732971191, 0.9603333473205566, 0.9615499973297119, 0.9630666375160217, 0.9647499918937683, 0.9654666781425476, 0.9667666554450989, 0.9673500061035156, 0.9675666689872742, 0.9685166478157043, 0.9699666500091553, 0.9702666401863098, 0.9711499810218811, 0.9710166454315186], 'val_loss': [0.214376300573349, 0.20378650724887848, 0.19260616600513458, 0.19457098841667175, 0.17477326095104218, 0.1780567169189453, 0.15995940566062927, 0.18439419567584991, 0.16231675446033478, 0.18754303455352783, 0.1984165459871292, 0.2257453352212906, 0.18069049715995789, 0.21813490986824036, 0.1997353583574295, 0.1816563606262207, 0.18755070865154266, 0.16423767805099487, 0.18513064086437225, 0.20188479125499725], 'val_accuracy': [0.9366000294685364, 0.9340000152587891, 0.9423999786376953, 0.9442999958992004, 0.9460999965667725, 0.9488999843597412, 0.9528999924659729, 0.9485999941825867, 0.9556999802589417, 0.9473000168800354, 0.9473999738693237, 0.9391999840736389, 0.9491999745368958, 0.9466000199317932, 0.9472000002861023, 0.9523000121116638, 0.9513999819755554, 0.9585000276565552, 0.954200029373169, 0.9528999924659729]}\n"
     ]
    },
    {
     "data": {
      "image/png": "[encoded data removed]",
      "text/plain": [
       "<Figure size 432x288 with 1 Axes>"
      ]
     },
     "metadata": {
      "needs_background": "light",
      "tags": []
     },
     "output_type": "display_data"
    },
    {
     "data": {
      "image/png": "[encoded data removed]",
      "text/plain": [
       "<Figure size 432x288 with 1 Axes>"
      ]
     },
     "metadata": {
      "needs_background": "light",
      "tags": []
     },
     "output_type": "display_data"
    }
   ],
   "source": [
    "print(hist.history)\n",
    "#plot the loss\n",
    "plt.plot(hist.history['loss'], label='train_loss')\n",
    "plt.plot(hist.history['val_loss'] , label='val_loss')\n",
    "\n",
    "plt.legend()\n",
    "\n",
    "plt.savefig('LossVal_loss')\n",
    "plt.show()\n",
    "\n",
    "#plot the accuracy\n",
    "plt.plot(hist.history['accuracy'], label='train acc')\n",
    "plt.plot(hist.history['val_accuracy'], label='val acc')\n",
    "plt.legend()\n",
    "\n",
    "plt.savefig('AccVal_acc')\n",
    "plt.show()"
   ]
  },
  {
   "cell_type": "markdown",
   "metadata": {
    "id": "eG3D4dEGOcRc"
   },
   "source": [
    "#for final verification"
   ]
  },
  {
   "cell_type": "code",
   "execution_count": 110,
   "metadata": {
    "colab": {
     "base_uri": "https://localhost:8080/",
     "height": 373
    },
    "id": "0fge-1wzJ-7G",
    "outputId": "f6763b43-7f2c-4c33-99fb-dcd1e1623cb0"
   },
   "outputs": [
    {
     "name": "stdout",
     "output_type": "stream",
     "text": [
      "(1, 32, 32, 3)\n",
      "[[4.0382233e-12 8.4488057e-23 1.1997013e-20 4.7672711e-13 5.6324867e-20\n",
      "  2.2894463e-07 8.6946329e-19 9.9999976e-01 4.2537612e-22 3.3729800e-16]]\n",
      "[[4.038223314767331e-12, 8.448805686733974e-23, 1.199701320636927e-20, 4.767271104787196e-13, 5.632486694610093e-20, 2.2894462858857878e-07, 8.69463293732171e-19, 0.9999997615814209, 4.253761153924565e-22, 3.372979957777598e-16]]\n"
     ]
    },
    {
     "data": {
      "image/png": "[encoded data removed]",
      "text/plain": [
       "<Figure size 432x288 with 1 Axes>"
      ]
     },
     "metadata": {
      "needs_background": "light",
      "tags": []
     },
     "output_type": "display_data"
    },
    {
     "name": "stdout",
     "output_type": "stream",
     "text": [
      "[7]\n"
     ]
    }
   ],
   "source": [
    "#for final verification\n",
    "from keras.preprocessing import image\n",
    "from keras.preprocessing.image import load_img\n",
    "from keras.applications.resnet50 import preprocess_input\n",
    "img=image.load_img('93.png', target_size=(32,32))\n",
    "x=image.img_to_array(img)\n",
    "x = np.expand_dims(x, axis=0) # just increasing the rank \n",
    "x = preprocess_input(x)\n",
    "print(x.shape)\n",
    "a=model.predict(x)\n",
    "print(a)\n",
    "# print(np.exp(a))\n",
    "# print(a[:][:1])\n",
    "# list1=[model.predict(x)]\n",
    "# print(list1)\n",
    "\n",
    "arr=model.predict(x)\n",
    "list1=arr.tolist()\n",
    "print(list1)\n",
    "a1=np.argmax(model.predict(x), axis=1)\n",
    "plt.imshow(img)\n",
    "plt.show()\n",
    "print(a1)"
   ]
  },
  {
   "cell_type": "code",
   "execution_count": 108,
   "metadata": {
    "colab": {
     "base_uri": "https://localhost:8080/",
     "height": 373
    },
    "id": "JQjteg-YKp_e",
    "outputId": "8c61df4b-cdde-4490-90bb-4e47678bfbdd"
   },
   "outputs": [
    {
     "name": "stdout",
     "output_type": "stream",
     "text": [
      "(1, 32, 32, 3)\n",
      "[[1.0000000e+00 6.7570196e-18 2.4729249e-18 1.3056211e-28 3.1203105e-21\n",
      "  5.4307284e-16 1.4124757e-16 2.4537796e-21 1.5354790e-19 2.3450353e-19]]\n",
      "[[1.0, 6.757019634673663e-18, 2.472924890422965e-18, 1.3056211315916479e-28, 3.120310457225243e-21, 5.430728447914897e-16, 1.412475746894319e-16, 2.453779588350272e-21, 1.535478956716905e-19, 2.345035323096754e-19]]\n"
     ]
    },
    {
     "data": {
      "image/png": "[encoded data removed]",
      "text/plain": [
       "<Figure size 432x288 with 1 Axes>"
      ]
     },
     "metadata": {
      "needs_background": "light",
      "tags": []
     },
     "output_type": "display_data"
    },
    {
     "name": "stdout",
     "output_type": "stream",
     "text": [
      "[0]\n"
     ]
    }
   ],
   "source": [
    "#for final verification\n",
    "from keras.preprocessing import image\n",
    "from keras.preprocessing.image import load_img\n",
    "from keras.applications.resnet50 import preprocess_input\n",
    "img=image.load_img('0.png', target_size=(32,32))\n",
    "x=image.img_to_array(img)\n",
    "x = np.expand_dims(x, axis=0) # just increasing the rank \n",
    "x = preprocess_input(x)\n",
    "print(x.shape)\n",
    "a=model.predict(x)\n",
    "print(a)\n",
    "# print(np.exp(a))\n",
    "# print(a[:][:1])\n",
    "# list1=[model.predict(x)]\n",
    "# print(list1)\n",
    "\n",
    "arr=model.predict(x)\n",
    "list1=arr.tolist()\n",
    "print(list1)\n",
    "a1=np.argmax(model.predict(x), axis=1)\n",
    "plt.imshow(img)\n",
    "plt.show()\n",
    "print(a1)"
   ]
  },
  {
   "cell_type": "code",
   "execution_count": 111,
   "metadata": {
    "colab": {
     "base_uri": "https://localhost:8080/",
     "height": 353
    },
    "id": "-7Uilzy4QfAO",
    "outputId": "c15781be-1773-4b0f-89d9-a7b152b2da96"
   },
   "outputs": [
    {
     "name": "stdout",
     "output_type": "stream",
     "text": [
      "(1, 32, 32, 3)\n",
      "[[2.0896752e-27 0.0000000e+00 1.0000000e+00 0.0000000e+00 8.7240469e-17\n",
      "  0.0000000e+00 0.0000000e+00 0.0000000e+00 9.7544132e-18 0.0000000e+00]]\n",
      "[[2.0896752045609608e-27, 0.0, 1.0, 0.0, 8.724046942236698e-17, 0.0, 0.0, 0.0, 9.754413222607047e-18, 0.0]]\n"
     ]
    },
    {
     "data": {
      "image/png": "[encoded data removed]",
      "text/plain": [
       "<Figure size 432x288 with 1 Axes>"
      ]
     },
     "metadata": {
      "needs_background": "light",
      "tags": []
     },
     "output_type": "display_data"
    },
    {
     "name": "stdout",
     "output_type": "stream",
     "text": [
      "[2]\n"
     ]
    }
   ],
   "source": [
    "#for final verification\n",
    "from keras.preprocessing import image\n",
    "from keras.preprocessing.image import load_img\n",
    "from keras.applications.resnet50 import preprocess_input\n",
    "img=image.load_img('4.png', target_size=(32,32))\n",
    "x=image.img_to_array(img)\n",
    "x = np.expand_dims(x, axis=0) # just increasing the rank \n",
    "x = preprocess_input(x)\n",
    "print(x.shape)\n",
    "a=model.predict(x)\n",
    "print(a)\n",
    "# print(np.exp(a))\n",
    "# print(a[:][:1])\n",
    "# list1=[model.predict(x)]\n",
    "# print(list1)\n",
    "\n",
    "arr=model.predict(x)\n",
    "list1=arr.tolist()\n",
    "print(list1)\n",
    "a1=np.argmax(model.predict(x), axis=1)\n",
    "plt.imshow(img)\n",
    "plt.show()\n",
    "print(a1)"
   ]
  },
  {
   "cell_type": "code",
   "execution_count": 113,
   "metadata": {
    "colab": {
     "base_uri": "https://localhost:8080/",
     "height": 373
    },
    "id": "1MymPxkCRRfw",
    "outputId": "b1ab5a0d-29ab-413e-ebee-c598da047bff"
   },
   "outputs": [
    {
     "name": "stdout",
     "output_type": "stream",
     "text": [
      "(1, 32, 32, 3)\n",
      "[[1.7046061e-35 5.1291703e-17 1.2997116e-22 8.3728697e-29 3.0854208e-26\n",
      "  3.3190118e-26 1.0000000e+00 2.6605590e-27 1.4245034e-10 3.0198589e-21]]\n",
      "[[1.704606140359144e-35, 5.129170292662483e-17, 1.2997115764417795e-22, 8.372869692251706e-29, 3.0854208140404117e-26, 3.3190117725400863e-26, 1.0, 2.6605589734902364e-27, 1.424503431879387e-10, 3.0198589037947676e-21]]\n"
     ]
    },
    {
     "data": {
      "image/png": "[encoded data removed]",
      "text/plain": [
       "<Figure size 432x288 with 1 Axes>"
      ]
     },
     "metadata": {
      "needs_background": "light",
      "tags": []
     },
     "output_type": "display_data"
    },
    {
     "name": "stdout",
     "output_type": "stream",
     "text": [
      "[6]\n"
     ]
    }
   ],
   "source": [
    "#for final verification\n",
    "from keras.preprocessing import image\n",
    "from keras.preprocessing.image import load_img\n",
    "from keras.applications.resnet50 import preprocess_input\n",
    "img=image.load_img('7.png', target_size=(32,32))\n",
    "x=image.img_to_array(img)\n",
    "x = np.expand_dims(x, axis=0) # just increasing the rank \n",
    "# x = preprocess_input(x)\n",
    "print(x.shape)\n",
    "a=model.predict(x)\n",
    "print(a)\n",
    "# print(np.exp(a))\n",
    "# print(a[:][:1])\n",
    "# list1=[model.predict(x)]\n",
    "# print(list1)\n",
    "\n",
    "arr=model.predict(x)\n",
    "list1=arr.tolist()\n",
    "print(list1)\n",
    "a1=np.argmax(model.predict(x), axis=1)\n",
    "plt.imshow(img)\n",
    "plt.show()\n",
    "print(a1)"
   ]
  },
  {
   "cell_type": "markdown",
   "metadata": {
    "id": "KcZpiAXoOgS8"
   },
   "source": [
    "Using SKLEARN API to calculate different performance parameters"
   ]
  },
  {
   "cell_type": "code",
   "execution_count": 114,
   "metadata": {
    "id": "LQkWHb9ULOTF"
   },
   "outputs": [],
   "source": [
    "from sklearn.metrics import confusion_matrix, classification_report"
   ]
  },
  {
   "cell_type": "code",
   "execution_count": 115,
   "metadata": {
    "id": "jOLK1ID7LS7t"
   },
   "outputs": [],
   "source": [
    "#predicting on batch of test images and storing the result in y_pred\n",
    "y_pred=model.predict_on_batch(x_test)\n",
    "matrix = confusion_matrix(y_test.argmax(axis=1), y_pred.argmax(axis=1),labels=[0,1,2,3,4,5,6,7,8,9])"
   ]
  },
  {
   "cell_type": "code",
   "execution_count": 116,
   "metadata": {
    "id": "Xt3UJCAmMwWH"
   },
   "outputs": [],
   "source": [
    "#y_pred.argmax(axis=1)"
   ]
  },
  {
   "cell_type": "code",
   "execution_count": 117,
   "metadata": {
    "colab": {
     "base_uri": "https://localhost:8080/"
    },
    "id": "Xs0rq6u7M7NV",
    "outputId": "7f46ccff-2a71-4f2b-d97a-277631d36f66"
   },
   "outputs": [
    {
     "name": "stdout",
     "output_type": "stream",
     "text": [
      "[[ 964    0    2    0    2    2    7    2    1    0]\n",
      " [   0 1125    0    0    1    0    3    3    2    1]\n",
      " [   4    1  972    4    4    6    5   23   13    0]\n",
      " [   2    1   21  922    1   33    4   11   13    2]\n",
      " [   0    2    4    0  950    0    6   13    4    3]\n",
      " [   0    3    1   16    2  840   14    6    9    1]\n",
      " [   1    2    3    0    2    7  942    0    1    0]\n",
      " [   0    4    9    3   10    0    0  999    2    1]\n",
      " [   0    0    9    2    6   16    5    5  929    2]\n",
      " [   3    5   15    7   18    5    2   41   27  886]]\n"
     ]
    }
   ],
   "source": [
    "print(matrix)"
   ]
  },
  {
   "cell_type": "code",
   "execution_count": 118,
   "metadata": {
    "id": "uMklpWNBNmzu"
   },
   "outputs": [],
   "source": [
    "matrix1=classification_report(y_test.argmax(axis=1), y_pred.argmax(axis=1),labels=[0,1,2,3,4,5,6,7,8,9])"
   ]
  },
  {
   "cell_type": "code",
   "execution_count": 119,
   "metadata": {
    "colab": {
     "base_uri": "https://localhost:8080/"
    },
    "id": "vp9wpSr4OIcR",
    "outputId": "be988468-ef4d-4364-d2b4-320d8196f193"
   },
   "outputs": [
    {
     "name": "stdout",
     "output_type": "stream",
     "text": [
      "              precision    recall  f1-score   support\n",
      "\n",
      "           0       0.99      0.98      0.99       980\n",
      "           1       0.98      0.99      0.99      1135\n",
      "           2       0.94      0.94      0.94      1032\n",
      "           3       0.97      0.91      0.94      1010\n",
      "           4       0.95      0.97      0.96       982\n",
      "           5       0.92      0.94      0.93       892\n",
      "           6       0.95      0.98      0.97       958\n",
      "           7       0.91      0.97      0.94      1028\n",
      "           8       0.93      0.95      0.94       974\n",
      "           9       0.99      0.88      0.93      1009\n",
      "\n",
      "    accuracy                           0.95     10000\n",
      "   macro avg       0.95      0.95      0.95     10000\n",
      "weighted avg       0.95      0.95      0.95     10000\n",
      "\n"
     ]
    }
   ],
   "source": [
    "print(matrix1)"
   ]
  },
  {
   "cell_type": "markdown",
   "metadata": {},
   "source": [
    "# Question 1\n",
    "The MNIST handwritten digit dataset is one of the most commonly used datasets for image classification. You can access the dataset here: http://yann.lecun.com/exdb/mnist/. It is also available in many ML packages such as TensorFlow, PyTorch, FastAI. Feel free to directly load the dataset via either source. After obtaining the data, design a neural network architecture to perform digit recognition and share your code implementing the NN and appropriate performance metrics on the test set."
   ]
  },
  {
   "cell_type": "code",
   "execution_count": null,
   "metadata": {},
   "outputs": [],
   "source": []
  }
 ],
 "metadata": {
  "accelerator": "GPU",
  "colab": {
   "collapsed_sections": [],
   "name": "MNIST _handwritten_digit_Model_For_Deloitte.ipynb",
   "provenance": [],
   "toc_visible": true
  },
  "kernelspec": {
   "display_name": "Python 3",
   "language": "python",
   "name": "python3"
  },
  "language_info": {
   "codemirror_mode": {
    "name": "ipython",
    "version": 3
   },
   "file_extension": ".py",
   "mimetype": "text/x-python",
   "name": "python",
   "nbconvert_exporter": "python",
   "pygments_lexer": "ipython3",
   "version": "3.7.4"
  }
 },
 "nbformat": 4,
 "nbformat_minor": 1
}
